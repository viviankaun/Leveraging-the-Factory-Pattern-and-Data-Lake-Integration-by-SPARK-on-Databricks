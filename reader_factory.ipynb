{
 "cells": [
  {
   "cell_type": "code",
   "execution_count": 0,
   "metadata": {
    "application/vnd.databricks.v1+cell": {
     "cellMetadata": {
      "byteLimit": 2048000,
      "rowLimit": 10000
     },
     "inputWidgets": {},
     "nuid": "091ef262-ca43-405e-97ca-0d3d5ef3d750",
     "showTitle": false,
     "title": ""
    }
   },
   "outputs": [],
   "source": [
    "# reader_factory.py\n",
    "\n",
    "class DataSource:\n",
    "   def __init__(self, path):\n",
    "       self.path = path\n",
    "   def get_data_frame(self):\n",
    "       raise ValueError(\"Not Implemented!\")\n",
    "\n",
    "\n",
    "class  CSVDataSource(DataSource):\n",
    "   def get_data_frame(self):\n",
    "       return spark.read.format(\"csv\").option(\"header\",True).load(self.path)\n",
    "\n",
    "\n",
    "class ORCDataSource(DataSource):\n",
    "   def get_data_frame(self):\n",
    "       return spark.read.format(\"parquet\") .load(self.path)\n",
    "  \n",
    "class DeltaDataSource(DataSource):\n",
    "   def get_data_frame(self):\n",
    "       # vivian \n",
    "       #return spark.read.format(\"delta\").load(self.path)\n",
    "       return spark.read.table(self.path)\n",
    "   \n",
    "   \n",
    "def get_data_source(data_type, file_path):\n",
    "    if data_type == \"csv\":\n",
    "        return CSVDataSource(file_path)\n",
    "    elif data_type == \"parquet\":\n",
    "        return ORCDataSource(file_path)\n",
    "    elif data_type == \"delta\":\n",
    "        return DeltaDataSource(file_path)\n",
    "    else:\n",
    "        raise ValueError(f\" Not implemented for data_type: {data_type}\")\n"
   ]
  }
 ],
 "metadata": {
  "application/vnd.databricks.v1+notebook": {
   "dashboards": [],
   "environmentMetadata": null,
   "language": "python",
   "notebookMetadata": {
    "pythonIndentUnit": 4
   },
   "notebookName": "reader_factory",
   "widgets": {}
  }
 },
 "nbformat": 4,
 "nbformat_minor": 0
}
